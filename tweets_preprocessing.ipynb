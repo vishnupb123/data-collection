{
 "cells": [
  {
   "cell_type": "code",
   "execution_count": 8,
   "id": "c2dbcd30",
   "metadata": {},
   "outputs": [],
   "source": [
    "# importing necessary libraries\n",
    "\n",
    "# %pip install pandas numpy matplotlib seaborn\n",
    "\n",
    "import pandas as pd # type: ignore\n",
    "import numpy as np  # type: ignore\n",
    "import matplotlib.pyplot as plt # type: ignore\n",
    "import seaborn as sns # type: ignore\n",
    "import warnings\n",
    "warnings.filterwarnings('ignore')"
   ]
  },
  {
   "cell_type": "code",
   "execution_count": null,
   "id": "5d713ee2",
   "metadata": {},
   "outputs": [
    {
     "name": "stdout",
     "output_type": "stream",
     "text": [
      "_id                        0\n",
      "id                         0\n",
      "text                       0\n",
      "created_at                 0\n",
      "author_name                1\n",
      "                       ...  \n",
      "urls[19].indices[1]    81512\n",
      "urls[20].indices[0]    81512\n",
      "urls[20].indices[1]    81512\n",
      "urls[21].indices[0]    81512\n",
      "urls[21].indices[1]    81512\n",
      "Length: 166, dtype: int64\n",
      "2132\n",
      "0\n",
      "0\n",
      "81165\n",
      "mentions\n",
      "[]                             41137\n",
      "[@elonmusk]                      373\n",
      "[@hubdotxyz]                     152\n",
      "[@Samantha_Quotes, @grok]        144\n",
      "[@YouTube]                       122\n",
      "                               ...  \n",
      "[@aeuphroic, @eyelashes92_]        1\n",
      "[@MMehtaSports, @FFSN_NFL]         1\n",
      "[@terrifiedtigerr]                 1\n",
      "[@Tonkhaikichi『Revolution]         1\n",
      "[@Walplast]                        1\n",
      "Name: count, Length: 29975, dtype: int64\n"
     ]
    }
   ],
   "source": [
    "# data preperartion and preprocessing\n",
    "\n",
    "df = pd.read_csv('twitter_data.csv')\n",
    "df.shape\n",
    "\n",
    "# checking whether if there is any null or missing values in this dataset\n",
    "print(df.isnull().sum())\n",
    "print(df['view_count'].isnull().sum()) # 2132 data points are missing\n",
    "print(df['retweet_count'].isnull().sum())\n",
    "print(df['retweet_count'].isnull().sum())\n",
    "# df['hashtags'].isna().sum()\n",
    "print(df['place'].isnull().sum())  # 99 percent of data is missing\n",
    "# df['urls'].isnull().sum()\n",
    "#check for missing values\n",
    "\n",
    "# found 1 null value for authorname feature\n",
    "df['author_name'].fillna('Unknown' , inplace=True)\n",
    "\n",
    "# filling the mssing values for the view_count field\n",
    "df['view_count'].fillna(0 , inplace=True)\n",
    "\n",
    "df['text'].head()\n",
    "\n",
    "# cleaning the text field ( extracting hashtags and mentions present in the text field)\n",
    "def get_hashtags_and_mentions(text):\n",
    "    hashtags = []\n",
    "    mentions = []\n",
    "    for word in text.split():\n",
    "        if word.startswith('#'):\n",
    "            hashtags.append(word)\n",
    "        if word.startswith('@'):\n",
    "            mentions.append(word)\n",
    "    return hashtags, mentions\n",
    "\n",
    "# applying the function to the text field\n",
    "df['hashtags'], df['mentions'] = zip(*df['text'].apply(get_hashtags_and_mentions))\n",
    "\n",
    "#checking the count of mentions in the dataset\n",
    "print(df['mentions'].value_counts())\n",
    "\n",
    "\n",
    "\n",
    "\n"
   ]
  }
 ],
 "metadata": {
  "kernelspec": {
   "display_name": ".venv",
   "language": "python",
   "name": "python3"
  },
  "language_info": {
   "codemirror_mode": {
    "name": "ipython",
    "version": 3
   },
   "file_extension": ".py",
   "mimetype": "text/x-python",
   "name": "python",
   "nbconvert_exporter": "python",
   "pygments_lexer": "ipython3",
   "version": "3.9.6"
  }
 },
 "nbformat": 4,
 "nbformat_minor": 5
}
